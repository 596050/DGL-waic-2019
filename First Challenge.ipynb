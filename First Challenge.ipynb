{
 "cells": [
  {
   "cell_type": "markdown",
   "metadata": {},
   "source": [
    "# Node classification with Cora Dataset"
   ]
  },
  {
   "cell_type": "markdown",
   "metadata": {},
   "source": [
    "In this notebook, you will need to deal with the node classification problem on Cora Dataset, which is similar to the Karate Club problem."
   ]
  },
  {
   "cell_type": "markdown",
   "metadata": {},
   "source": [
    "## Load Dataset"
   ]
  },
  {
   "cell_type": "markdown",
   "metadata": {},
   "source": [
    "The Cora dataset consists of Machine Learning papers. These papers are classified into one of the following seven classes:\n",
    "- Case_Based\n",
    "- Genetic_Algorithms\n",
    "- Neural_Networks\n",
    "- Probabilistic_Methods\n",
    "- Reinforcement_Learning\n",
    "- Rule_Learning\n",
    "- Theory\n",
    "\n",
    "Each node represents a paper, and the link between them represents the citation relationship. It is splitted to train, validation and test set. This is also a common baseline for most graph neural network papers."
   ]
  },
  {
   "cell_type": "code",
   "execution_count": null,
   "metadata": {},
   "outputs": [],
   "source": [
    "from dgl.data import CoraDataset\n",
    "import torch as th\n",
    "dataset = CoraDataset()\n",
    "g = dataset[0]\n",
    "print(g)"
   ]
  },
  {
   "cell_type": "markdown",
   "metadata": {},
   "source": [
    "## Extract masks and print dataset statistics"
   ]
  },
  {
   "cell_type": "code",
   "execution_count": null,
   "metadata": {
    "scrolled": true
   },
   "outputs": [],
   "source": [
    "num_labels = g.ndata['label'].max().item()+1 # label index started from 0\n",
    "feature_dim = g.ndata['feat'].shape[1]\n",
    "train_mask = g.ndata['train_mask'].to(th.bool)\n",
    "val_mask = g.ndata['val_mask'].to(th.bool)\n",
    "test_mask = g.ndata['test_mask'].to(th.bool)\n",
    "print(\"Node feature dimension: {}\".format(feature_dim))\n",
    "print(\"Number of labels: {}\".format(num_labels))\n",
    "print(\"Number of nodes for training: {}\".format(train_mask.long().sum()))\n",
    "print(\"Number of nodes for validataion: {}\".format(val_mask.long().sum()))\n",
    "print(\"Number of nodes for testing: {}\".format(test_mask.long().sum()))"
   ]
  },
  {
   "cell_type": "markdown",
   "metadata": {},
   "source": [
    "## Setup Model and Train"
   ]
  },
  {
   "cell_type": "markdown",
   "metadata": {},
   "source": [
    "In this challenge, you will need to write the below part to achieve better performance on the test set. You can change the model structure, use other dgl [nn modules](https://docs.dgl.ai/api/python/nn.pytorch.html#module-dgl.nn.pytorch.conv), tuning hyperparameters in optimizers, add early stopping and so on. You need to finish the model with the training loop. Use trained model for further evaluation on test set. \n",
    "\n",
    "**However, please remember only using training data in the training loop below**. (such as `g.ndata['label'][train_mask]`)"
   ]
  },
  {
   "cell_type": "code",
   "execution_count": null,
   "metadata": {},
   "outputs": [],
   "source": [
    "class Model(nn.Module):\n",
    "    def __init__(self, ...):\n",
    "        pass\n",
    "        \n",
    "    def forward(self, g, inputs):\n",
    "        pass\n",
    "    \n",
    "\n",
    "model = Model(...)"
   ]
  },
  {
   "cell_type": "markdown",
   "metadata": {},
   "source": [
    "## Evaluate result on the test set"
   ]
  },
  {
   "cell_type": "code",
   "execution_count": null,
   "metadata": {},
   "outputs": [],
   "source": [
    "model.eval()\n",
    "logits = model(g, g.ndata['feat'])\n",
    "test_acc = (logits.argmax(1)==g.ndata['label'])[test_mask].float().mean()\n",
    "print('Test accuracy: {:.4f}'.format(test_acc))"
   ]
  }
 ],
 "metadata": {
  "kernelspec": {
   "display_name": "Python 3",
   "language": "python",
   "name": "python3"
  },
  "language_info": {
   "codemirror_mode": {
    "name": "ipython",
    "version": 3
   },
   "file_extension": ".py",
   "mimetype": "text/x-python",
   "name": "python",
   "nbconvert_exporter": "python",
   "pygments_lexer": "ipython3",
   "version": "3.6.8"
  }
 },
 "nbformat": 4,
 "nbformat_minor": 2
}
